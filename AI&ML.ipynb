#!/usr/bin/env python
# coding: utf-8

# In[ ]:





# In[1]:


import warnings 
warnings.filterwarnings ("ignore")


# In[3]:


import numpy as np
import pandas as pd
import matplotlib.pyplot as plt
import seaborn as sns


# In[4]:


kr = pd.read_csv("https://raw.githubusercontent.com/ingledarshan/AIML-B2/main/data.csv")


# In[5]:


kr.head() # it print whole data in the above url


# In[11]:


kr.columns #columns of the data


# In[7]:


list(kr.columns) # list outing 


# In[8]:


kr = kr.drop("Unnamed: 32", axis=1)


# In[9]:


kr.head()


# In[10]:


kr.columns # deleted the unnamed column


# In[11]:


kr['diagnosis'].unique() 


# In[12]:


kr['diagnosis'] = kr['diagnosis'].map({'M':1, 'B':0})


# In[13]:


kr.head()


# In[15]:


X = kr.drop('diagnosis', axis=1)
X.head()


# In[17]:


y = kr['diagnosis']
y.head()


# In[27]:


from sklearn.model_selection import train_test_split
X_train, X_test, y_train, y_test = train_test_split(X, y, test_size=0.3)
from sklearn.preprocessing import StandardScaler
bb = StandardScaler()
X_train = bb.fit_transform(X_train)
X_test = bb.transform(X_test)
from sklearn.linear_model import LogisticRegression
lr = LogisticRegression()
lr.fit(X_train, y_train)
y_pred = lr.predict(X_test)
from sklearn.metrics import accuracy_score
lr_acc = accuracy_score(y_test, y_pred)
results = pd.DataFrame()
tempResults = pd.DataFrame({'Algorithm':['Logistic Regression Method'], 'Accuracy':[lr_acc]})
results = pd.concat( [results, tempResults] )
results = results[['Algorithm','Accuracy']]
results


# In[29]:


from sklearn.tree import DecisionTreeClassifier
dtc = DecisionTreeClassifier()
dtc.fit(X_train, y_train)
y_pred = dtc.predict(X_test)
dtc_acc = accuracy_score(y_test, y_pred)
tempResults = pd.DataFrame({'Algorithm':['Decision tree Classifier Method'], 'Accuracy':[dtc_acc]})
results = pd.concat( [results, tempResults] )
results = results[['Algorithm','Accuracy']]
results


# In[30]:


from sklearn.ensemble import RandomForestClassifier
rfc = RandomForestClassifier()
rfc.fit(X_train, y_train)
y_pred = rfc.predict(X_test)
rfc_acc = accuracy_score(y_test, y_pred)
tempResults = pd.DataFrame({'Algorithm':['Random Forest Classifier Method'], 'Accuracy':[rfc_acc]})
results = pd.concat( [results, tempResults] )
results = results[['Algorithm','Accuracy']]
results


# In[31]:


from sklearn import svm
svc = svm.SVC()
svc.fit(X_train,y_train)
y_pred = svc.predict(X_test)
svc_acc = accuracy_score(y_test, y_pred)
tempResults = pd.DataFrame({'Algorithm':['Support Vector Classifier Method'], 'Accuracy':[svc_acc]})
results = pd.concat( [results, tempResults] )
results = results[['Algorithm','Accuracy']]
results


# In[ ]:




